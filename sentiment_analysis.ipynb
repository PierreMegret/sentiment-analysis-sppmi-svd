{
 "cells": [
  {
   "cell_type": "markdown",
   "metadata": {},
   "source": [
    "# Sentiment Analysis: approximating Word2Vec results with SPPMI-SVD"
   ]
  },
  {
   "cell_type": "markdown",
   "metadata": {},
   "source": [
    "# Introduction\n",
    "\n",
    "\n",
    "Introduced by Mikolov et al. in two papers in 2013 ([[1]](#References) and [[2]](#References)), Word2Vec is a widely popular way of getting vector representation for words. The core assumption of Word2Vec is that if two words are used in similar contexts, then they should share a similar meaning and vector representation. These vector representations can then be used in clustering a set of documents or in text classification tasks.\n",
    "\n",
    "In 2014, Omer Levy and Yoav Goldberg ([[3]](#References)) demonstrated that Word2Vec could be approximated by \"factorizing a word-context matrix whose cells are the pointwise mutual information (PMI) of the respective word and context pairs\". Unlike Word2Vec which is based on a neural-network and uses gradient descent, Omer Levy and Yoav Goldberg method only relies on word count, information theory and the factorization of a matrix with the well-known Singular Value Decomposition. They also go on and show that this method produces word embeddings that can achieve comparable performance as the ones from Word2Vec.\n",
    "\n",
    "In this notebook, I wanted to compare the performance of [Gensim's](https://radimrehurek.com/gensim/models/word2vec.html) famous implementation of Word2Vec and my own implementation of Omer Levy and Yoav Goldberg model on a Sentiment Analysis tasks."
   ]
  },
  {
   "cell_type": "markdown",
   "metadata": {},
   "source": [
    "### Environment\n",
    "`python==3.7`<br>\n",
    "`spacy==2.0.12`<br>\n",
    "`nltk==3.4.4`<br>\n",
    "`tqdm=4.32.1`<br>\n",
    "`scikit-learn==0.21.2`<br>\n",
    "`gensim==0.21.2`<br>\n"
   ]
  },
  {
   "cell_type": "code",
   "execution_count": 1,
   "metadata": {},
   "outputs": [],
   "source": [
    "import os\n",
    "import pickle\n",
    "import logging\n",
    "import pandas as pd\n",
    "from time import time\n",
    "import matplotlib.pyplot as plt\n",
    "%matplotlib inline\n",
    "\n",
    "import logging\n",
    "logging.basicConfig(format=\"%(levelname)s - %(asctime)s: %(message)s\",\n",
    "                    datefmt= '%H:%M:%S', level=logging.INFO)\n",
    "import spacy \n",
    "from nltk.tokenize import TweetTokenizer\n",
    "from tqdm.auto import tqdm\n",
    "tqdm.pandas(desc=\"progress-bar\")"
   ]
  },
  {
   "cell_type": "markdown",
   "metadata": {},
   "source": [
    "# Getting the Data\n",
    "\n",
    "\n",
    "The data comes from **Ahmed Besbes** *Sentiment Analysis on twitter using word2vec and keras* blog post \n",
    "[[4]](#References). You can find the data [here](https://drive.google.com/uc?id=0B04GJPshIjmPRnZManQwWEdTZjg&export=download).\n",
    "\n",
    "The data consists of more than a million of tweet, each tweet comes with its content / text and a binary sentiment score (positive / negative feeling)."
   ]
  },
  {
   "cell_type": "markdown",
   "metadata": {},
   "source": [
    "Loading the data:"
   ]
  },
  {
   "cell_type": "code",
   "execution_count": 2,
   "metadata": {},
   "outputs": [],
   "source": [
    "df_tweets = pd.read_csv(\"training.1600000.processed.noemoticon.csv\",\n",
    "                        encoding=\"ISO-8859-1\", header=None)"
   ]
  },
  {
   "cell_type": "markdown",
   "metadata": {},
   "source": [
    "Keeping only the text of the tweets (`msg`) and the sentiment score associated with them (`sentiment`):"
   ]
  },
  {
   "cell_type": "code",
   "execution_count": 3,
   "metadata": {},
   "outputs": [],
   "source": [
    "df_tweets = df_tweets[[0, 5]]\n",
    "df_tweets.columns = ['sentiment', 'msg']\n",
    "df_tweets['sentiment'] = df_tweets['sentiment'].map({4: 1, 0: 0}) # Mapping 4 to 1"
   ]
  },
  {
   "cell_type": "code",
   "execution_count": 4,
   "metadata": {},
   "outputs": [
    {
     "data": {
      "text/html": [
       "<div>\n",
       "<style scoped>\n",
       "    .dataframe tbody tr th:only-of-type {\n",
       "        vertical-align: middle;\n",
       "    }\n",
       "\n",
       "    .dataframe tbody tr th {\n",
       "        vertical-align: top;\n",
       "    }\n",
       "\n",
       "    .dataframe thead th {\n",
       "        text-align: right;\n",
       "    }\n",
       "</style>\n",
       "<table border=\"1\" class=\"dataframe\">\n",
       "  <thead>\n",
       "    <tr style=\"text-align: right;\">\n",
       "      <th></th>\n",
       "      <th>sentiment</th>\n",
       "      <th>msg</th>\n",
       "    </tr>\n",
       "  </thead>\n",
       "  <tbody>\n",
       "    <tr>\n",
       "      <th>0</th>\n",
       "      <td>0</td>\n",
       "      <td>@switchfoot http://twitpic.com/2y1zl - Awww, t...</td>\n",
       "    </tr>\n",
       "    <tr>\n",
       "      <th>1</th>\n",
       "      <td>0</td>\n",
       "      <td>is upset that he can't update his Facebook by ...</td>\n",
       "    </tr>\n",
       "    <tr>\n",
       "      <th>2</th>\n",
       "      <td>0</td>\n",
       "      <td>@Kenichan I dived many times for the ball. Man...</td>\n",
       "    </tr>\n",
       "    <tr>\n",
       "      <th>3</th>\n",
       "      <td>0</td>\n",
       "      <td>my whole body feels itchy and like its on fire</td>\n",
       "    </tr>\n",
       "    <tr>\n",
       "      <th>4</th>\n",
       "      <td>0</td>\n",
       "      <td>@nationwideclass no, it's not behaving at all....</td>\n",
       "    </tr>\n",
       "  </tbody>\n",
       "</table>\n",
       "</div>"
      ],
      "text/plain": [
       "   sentiment                                                msg\n",
       "0          0  @switchfoot http://twitpic.com/2y1zl - Awww, t...\n",
       "1          0  is upset that he can't update his Facebook by ...\n",
       "2          0  @Kenichan I dived many times for the ball. Man...\n",
       "3          0    my whole body feels itchy and like its on fire \n",
       "4          0  @nationwideclass no, it's not behaving at all...."
      ]
     },
     "execution_count": 4,
     "metadata": {},
     "output_type": "execute_result"
    }
   ],
   "source": [
    "df_tweets.head()"
   ]
  },
  {
   "cell_type": "code",
   "execution_count": 5,
   "metadata": {},
   "outputs": [
    {
     "data": {
      "text/plain": [
       "(1600000, 2)"
      ]
     },
     "execution_count": 5,
     "metadata": {},
     "output_type": "execute_result"
    }
   ],
   "source": [
    "df_tweets.shape"
   ]
  },
  {
   "cell_type": "markdown",
   "metadata": {},
   "source": [
    "We have **1,600,000 tweets**."
   ]
  },
  {
   "cell_type": "markdown",
   "metadata": {},
   "source": [
    "Negative sentiment example:"
   ]
  },
  {
   "cell_type": "code",
   "execution_count": 6,
   "metadata": {},
   "outputs": [
    {
     "data": {
      "text/plain": [
       "'Just going to cry myself to sleep after watching Marley and Me.  '"
      ]
     },
     "execution_count": 6,
     "metadata": {},
     "output_type": "execute_result"
    }
   ],
   "source": [
    "df_tweets[df_tweets['sentiment'] == 0]['msg'][26]"
   ]
  },
  {
   "cell_type": "markdown",
   "metadata": {},
   "source": [
    "Positive sentiment example:"
   ]
  },
  {
   "cell_type": "code",
   "execution_count": 7,
   "metadata": {},
   "outputs": [
    {
     "data": {
      "text/plain": [
       "'Just woke up. Having no school is the best feeling ever '"
      ]
     },
     "execution_count": 7,
     "metadata": {},
     "output_type": "execute_result"
    }
   ],
   "source": [
    "df_tweets[df_tweets['sentiment'] == 1]['msg'][1599995]"
   ]
  },
  {
   "cell_type": "markdown",
   "metadata": {},
   "source": [
    "Let's see the distribution of the classes:"
   ]
  },
  {
   "cell_type": "code",
   "execution_count": 8,
   "metadata": {},
   "outputs": [
    {
     "data": {
      "text/plain": [
       "<matplotlib.axes._subplots.AxesSubplot at 0x1a015ea5940>"
      ]
     },
     "execution_count": 8,
     "metadata": {},
     "output_type": "execute_result"
    },
    {
     "data": {
      "image/png": "[encoded data removed]",
      "text/plain": [
       "<Figure size 432x288 with 1 Axes>"
      ]
     },
     "metadata": {
      "needs_background": "light"
     },
     "output_type": "display_data"
    }
   ],
   "source": [
    "df_tweets['sentiment'].hist()"
   ]
  },
  {
   "cell_type": "code",
   "execution_count": 9,
   "metadata": {},
   "outputs": [
    {
     "data": {
      "text/plain": [
       "1    800000\n",
       "0    800000\n",
       "Name: sentiment, dtype: int64"
      ]
     },
     "execution_count": 9,
     "metadata": {},
     "output_type": "execute_result"
    }
   ],
   "source": [
    "df_tweets['sentiment'].value_counts()"
   ]
  },
  {
   "cell_type": "markdown",
   "metadata": {},
   "source": [
    "Perfectly balanced dataset. (\"...As all things should be.\" - Thanos)"
   ]
  },
  {
   "cell_type": "markdown",
   "metadata": {},
   "source": [
    "Let's have a look at the number of words in each tweets:"
   ]
  },
  {
   "cell_type": "code",
   "execution_count": 10,
   "metadata": {},
   "outputs": [
    {
     "name": "stdout",
     "output_type": "stream",
     "text": [
      "min #words: 1\n",
      "avg #words: 13\n",
      "max #words: 64\n"
     ]
    }
   ],
   "source": [
    "df_len = df_tweets['msg'].str.split().str.len()\n",
    "print(\"min #words: {}\".format(df_len.min()))\n",
    "print(\"avg #words: {}\".format(round(df_len.mean())))\n",
    "print(\"max #words: {}\".format(df_len.max()))"
   ]
  },
  {
   "cell_type": "markdown",
   "metadata": {},
   "source": [
    "# Light Preprocessing \n",
    "Now, let's do some light preprocessing. We are going to remove hyperlinks, hashtags, and mentions in the tweets, as these do not provide much information for our sentiment analysis task. We will also lowercase the tweets to reduce the size of the vocabulary:"
   ]
  },
  {
   "cell_type": "code",
   "execution_count": 11,
   "metadata": {},
   "outputs": [],
   "source": [
    "def tokenizer(tweet):\n",
    "    tokens = TweetTokenizer(preserve_case=False,\n",
    "                            reduce_len=True,\n",
    "                            strip_handles=True).tokenize(tweet)\n",
    "    tokens = filter(lambda t: not t.startswith('#'), tokens)\n",
    "    tokens = filter(lambda t: not t.startswith('http'), tokens)\n",
    "    return ' '.join(tokens)"
   ]
  },
  {
   "cell_type": "markdown",
   "metadata": {},
   "source": [
    "Here's an example of the `tokenizer()` function in action:"
   ]
  },
  {
   "cell_type": "code",
   "execution_count": 12,
   "metadata": {},
   "outputs": [
    {
     "name": "stdout",
     "output_type": "stream",
     "text": [
      "Before preprocessing:\n",
      "@switchfoot http://twitpic.com/2y1zl - Awww, that's a bummer.  You shoulda got David Carr of Third Day to do it. ;D\n",
      "\n",
      "After preprocessing:\n",
      "- awww , that's a bummer . you shoulda got david carr of third day to do it . ;D\n"
     ]
    }
   ],
   "source": [
    "print('Before preprocessing:')\n",
    "print(df_tweets['msg'][0])\n",
    "print()\n",
    "print('After preprocessing:')\n",
    "print(tokenizer(df_tweets['msg'][0]))"
   ]
  },
  {
   "cell_type": "markdown",
   "metadata": {},
   "source": [
    "Now let's clean-up all the tweets:"
   ]
  },
  {
   "cell_type": "code",
   "execution_count": 13,
   "metadata": {
    "scrolled": true
   },
   "outputs": [
    {
     "data": {
      "application/vnd.jupyter.widget-view+json": {
       "model_id": "afcd397501ba4cf7b26b88ab076efe79",
       "version_major": 2,
       "version_minor": 0
      },
      "text/plain": [
       "HBox(children=(IntProgress(value=0, description='progress-bar', max=1600000, style=ProgressStyle(description_w…"
      ]
     },
     "metadata": {},
     "output_type": "display_data"
    },
    {
     "name": "stdout",
     "output_type": "stream",
     "text": [
      "\n",
      "4 mins\n"
     ]
    }
   ],
   "source": [
    "t = time()\n",
    "df_tweets['clean'] = df_tweets['msg'].progress_map(tokenizer) \n",
    "print(\"{} mins\".format(round((time() - t) / 60)))"
   ]
  },
  {
   "cell_type": "markdown",
   "metadata": {},
   "source": [
    "# Creating the training & testing sets "
   ]
  },
  {
   "cell_type": "code",
   "execution_count": 14,
   "metadata": {},
   "outputs": [],
   "source": [
    "from sklearn.model_selection import train_test_split"
   ]
  },
  {
   "cell_type": "markdown",
   "metadata": {},
   "source": [
    "### Looking at the preprocessing results"
   ]
  },
  {
   "cell_type": "markdown",
   "metadata": {},
   "source": [
    "How many tweets became empty strings after the preprocessing?"
   ]
  },
  {
   "cell_type": "code",
   "execution_count": 15,
   "metadata": {
    "scrolled": false
   },
   "outputs": [
    {
     "data": {
      "text/plain": [
       "3045"
      ]
     },
     "execution_count": 15,
     "metadata": {},
     "output_type": "execute_result"
    }
   ],
   "source": [
    "df_tweets[df_tweets['clean'] == '']['sentiment'].shape[0]"
   ]
  },
  {
   "cell_type": "markdown",
   "metadata": {},
   "source": [
    "Not many, we can remove these from the training and testing sets, they won't be useful to our models.\n",
    "\n",
    "Let's have a look at the number of words in each tweets now that we have preprocessed them:"
   ]
  },
  {
   "cell_type": "code",
   "execution_count": 16,
   "metadata": {
    "scrolled": true
   },
   "outputs": [
    {
     "data": {
      "text/plain": [
       "14.718443125"
      ]
     },
     "execution_count": 16,
     "metadata": {},
     "output_type": "execute_result"
    }
   ],
   "source": [
    "df_tweets['len'] = df_tweets['clean'].str.split().str.len()\n",
    "df_tweets['len'].mean()"
   ]
  },
  {
   "cell_type": "markdown",
   "metadata": {},
   "source": [
    "We want to keep tweets long enough for the word embedding models to learn meaningful information about the words and their context.<br>\n",
    "Let's see how many tweets do we have left if we keep only those with at least 10 words left once preprocessed:"
   ]
  },
  {
   "cell_type": "code",
   "execution_count": 17,
   "metadata": {
    "scrolled": true
   },
   "outputs": [
    {
     "data": {
      "text/plain": [
       "(1088998, 4)"
      ]
     },
     "execution_count": 17,
     "metadata": {},
     "output_type": "execute_result"
    }
   ],
   "source": [
    "df_tweets[df_tweets['len'] >= 10].shape"
   ]
  },
  {
   "cell_type": "markdown",
   "metadata": {},
   "source": [
    "That still leaves us plenty of tweets to work with.\n",
    "\n",
    "Does removing empty strings and cleaned up tweets with less than 10 words unbalanced our dataset?"
   ]
  },
  {
   "cell_type": "code",
   "execution_count": 18,
   "metadata": {},
   "outputs": [
    {
     "data": {
      "text/plain": [
       "<matplotlib.axes._subplots.AxesSubplot at 0x1a085bdd828>"
      ]
     },
     "execution_count": 18,
     "metadata": {},
     "output_type": "execute_result"
    },
    {
     "data": {
      "image/png": "[encoded data removed]",
      "text/plain": [
       "<Figure size 432x288 with 1 Axes>"
      ]
     },
     "metadata": {
      "needs_background": "light"
     },
     "output_type": "display_data"
    }
   ],
   "source": [
    "df_tweets[(df_tweets['clean'] != '') & (df_tweets['len'] >= 10)]['sentiment'].hist()"
   ]
  },
  {
   "cell_type": "code",
   "execution_count": 19,
   "metadata": {},
   "outputs": [
    {
     "data": {
      "text/plain": [
       "0    560114\n",
       "1    528884\n",
       "Name: sentiment, dtype: int64"
      ]
     },
     "execution_count": 19,
     "metadata": {},
     "output_type": "execute_result"
    }
   ],
   "source": [
    "df_tweets[(df_tweets['clean'] != '') & (df_tweets['len'] >= 10)]['sentiment'].value_counts()"
   ]
  },
  {
   "cell_type": "code",
   "execution_count": 21,
   "metadata": {},
   "outputs": [
    {
     "data": {
      "text/plain": [
       "0.9442434932888661"
      ]
     },
     "execution_count": 21,
     "metadata": {},
     "output_type": "execute_result"
    }
   ],
   "source": [
    "528884 / 560114"
   ]
  },
  {
   "cell_type": "markdown",
   "metadata": {},
   "source": [
    "Once we remove empty strings and short tweets, our data set is slightly imbalanced, however by only 6%. This is unlikely to introduce much bias to our models."
   ]
  },
  {
   "cell_type": "code",
   "execution_count": 22,
   "metadata": {},
   "outputs": [],
   "source": [
    "df_sets = df_tweets[(df_tweets['clean'] != '') & (df_tweets['len'] >= 10)].copy()"
   ]
  },
  {
   "cell_type": "code",
   "execution_count": 23,
   "metadata": {},
   "outputs": [],
   "source": [
    "x_train, x_test, y_train, y_test = train_test_split(df_sets['clean'],\n",
    "                                                    df_sets['sentiment'],\n",
    "                                                    test_size=0.2)"
   ]
  },
  {
   "cell_type": "markdown",
   "metadata": {},
   "source": [
    "How many elements in the training and testing sets do we have?"
   ]
  },
  {
   "cell_type": "code",
   "execution_count": 24,
   "metadata": {},
   "outputs": [
    {
     "name": "stdout",
     "output_type": "stream",
     "text": [
      "871198 871198\n",
      "217800 217800\n"
     ]
    }
   ],
   "source": [
    "print(x_train.shape[0], y_train.shape[0])\n",
    "print(x_test.shape[0], y_test.shape[0])"
   ]
  },
  {
   "cell_type": "markdown",
   "metadata": {},
   "source": [
    "Both Word2Vec and my implementation of SPPMI - SVD requires a list of list of tokens as an input:"
   ]
  },
  {
   "cell_type": "code",
   "execution_count": 25,
   "metadata": {},
   "outputs": [],
   "source": [
    "sentences = x_train.str.split().tolist()"
   ]
  },
  {
   "cell_type": "markdown",
   "metadata": {},
   "source": [
    "# Training the Word2Vec model"
   ]
  },
  {
   "cell_type": "code",
   "execution_count": 27,
   "metadata": {},
   "outputs": [],
   "source": [
    "from gensim.models import Word2Vec # Gensim's implementation of Word2Vec"
   ]
  },
  {
   "cell_type": "markdown",
   "metadata": {},
   "source": [
    "We are going to train the model with the default hyperparameters, that should give us decent enough word embeddings.<br>\n",
    "Here's a breakdown of some of the hyperparameters value:\n",
    "* `min_count=5`: every word with an absolute frequency below 5 is ignored\n",
    "* `sample=1e-3`: word with a relative frequency above 0.001 are randomly downsampled\n",
    "* `window=5`: we look at 5 context words to the left of our target word, and 5 context words to the right\n",
    "* `size=100`: the dimension of the resulting word vectors\n",
    "* `negative=5`: negative sampling (For more details, have a look at Chris McCormick [blog post](http://mccormickml.com/2017/01/11/word2vec-tutorial-part-2-negative-sampling/))\n",
    "\n",
    "Training of the model:"
   ]
  },
  {
   "cell_type": "code",
   "execution_count": 28,
   "metadata": {
    "scrolled": true
   },
   "outputs": [
    {
     "name": "stderr",
     "output_type": "stream",
     "text": [
      "INFO - 10:40:07: collecting all words and their counts\n",
      "INFO - 10:40:07: PROGRESS: at sentence #0, processed 0 words, keeping 0 word types\n",
      "INFO - 10:40:07: PROGRESS: at sentence #10000, processed 188746 words, keeping 15923 word types\n",
      "INFO - 10:40:07: PROGRESS: at sentence #20000, processed 377957 words, keeping 24463 word types\n",
      "INFO - 10:40:07: PROGRESS: at sentence #30000, processed 566253 words, keeping 31333 word types\n",
      "INFO - 10:40:07: PROGRESS: at sentence #40000, processed 754946 words, keeping 37305 word types\n",
      "INFO - 10:40:07: PROGRESS: at sentence #50000, processed 943094 words, keeping 42555 word types\n",
      "INFO - 10:40:07: PROGRESS: at sentence #60000, processed 1131529 words, keeping 47426 word types\n",
      "INFO - 10:40:07: PROGRESS: at sentence #70000, processed 1318966 words, keeping 52175 word types\n",
      "INFO - 10:40:07: PROGRESS: at sentence #80000, processed 1505794 words, keeping 56422 word types\n",
      "INFO - 10:40:07: PROGRESS: at sentence #90000, processed 1695225 words, keeping 60565 word types\n",
      "INFO - 10:40:08: PROGRESS: at sentence #100000, processed 1883412 words, keeping 64609 word types\n",
      "INFO - 10:40:08: PROGRESS: at sentence #110000, processed 2072294 words, keeping 68536 word types\n",
      "INFO - 10:40:08: PROGRESS: at sentence #120000, processed 2259127 words, keeping 72219 word types\n",
      "INFO - 10:40:08: PROGRESS: at sentence #130000, processed 2446487 words, keeping 75844 word types\n",
      "INFO - 10:40:08: PROGRESS: at sentence #140000, processed 2634812 words, keeping 79316 word types\n",
      "INFO - 10:40:08: PROGRESS: at sentence #150000, processed 2823810 words, keeping 82869 word types\n",
      "INFO - 10:40:08: PROGRESS: at sentence #160000, processed 3011396 words, keeping 86203 word types\n",
      "INFO - 10:40:08: PROGRESS: at sentence #170000, processed 3198586 words, keeping 89397 word types\n",
      "INFO - 10:40:08: PROGRESS: at sentence #180000, processed 3386404 words, keeping 92775 word types\n",
      "INFO - 10:40:08: PROGRESS: at sentence #190000, processed 3574379 words, keeping 95941 word types\n",
      "INFO - 10:40:08: PROGRESS: at sentence #200000, processed 3762782 words, keeping 99075 word types\n",
      "INFO - 10:40:08: PROGRESS: at sentence #210000, processed 3950755 words, keeping 102181 word types\n",
      "INFO - 10:40:09: PROGRESS: at sentence #220000, processed 4138997 words, keeping 105057 word types\n",
      "INFO - 10:40:09: PROGRESS: at sentence #230000, processed 4326654 words, keeping 107936 word types\n",
      "INFO - 10:40:09: PROGRESS: at sentence #240000, processed 4514776 words, keeping 110793 word types\n",
      "INFO - 10:40:09: PROGRESS: at sentence #250000, processed 4703147 words, keeping 113544 word types\n",
      "INFO - 10:40:09: PROGRESS: at sentence #260000, processed 4890861 words, keeping 116235 word types\n",
      "INFO - 10:40:09: PROGRESS: at sentence #270000, processed 5078871 words, keeping 118928 word types\n",
      "INFO - 10:40:09: PROGRESS: at sentence #280000, processed 5266275 words, keeping 121620 word types\n",
      "INFO - 10:40:09: PROGRESS: at sentence #290000, processed 5453378 words, keeping 124317 word types\n",
      "INFO - 10:40:09: PROGRESS: at sentence #300000, processed 5640972 words, keeping 126938 word types\n",
      "INFO - 10:40:10: PROGRESS: at sentence #310000, processed 5829436 words, keeping 129453 word types\n",
      "INFO - 10:40:10: PROGRESS: at sentence #320000, processed 6017339 words, keeping 132144 word types\n",
      "INFO - 10:40:10: PROGRESS: at sentence #330000, processed 6204754 words, keeping 134612 word types\n",
      "INFO - 10:40:10: PROGRESS: at sentence #340000, processed 6392279 words, keeping 137088 word types\n",
      "INFO - 10:40:10: PROGRESS: at sentence #350000, processed 6580265 words, keeping 139443 word types\n",
      "INFO - 10:40:10: PROGRESS: at sentence #360000, processed 6770044 words, keeping 141989 word types\n",
      "INFO - 10:40:10: PROGRESS: at sentence #370000, processed 6957408 words, keeping 144303 word types\n",
      "INFO - 10:40:10: PROGRESS: at sentence #380000, processed 7146576 words, keeping 146707 word types\n",
      "INFO - 10:40:10: PROGRESS: at sentence #390000, processed 7335543 words, keeping 149052 word types\n",
      "INFO - 10:40:10: PROGRESS: at sentence #400000, processed 7523880 words, keeping 151425 word types\n",
      "INFO - 10:40:10: PROGRESS: at sentence #410000, processed 7712610 words, keeping 153621 word types\n",
      "INFO - 10:40:10: PROGRESS: at sentence #420000, processed 7900789 words, keeping 155998 word types\n",
      "INFO - 10:40:11: PROGRESS: at sentence #430000, processed 8088757 words, keeping 158248 word types\n",
      "INFO - 10:40:11: PROGRESS: at sentence #440000, processed 8276443 words, keeping 160590 word types\n",
      "INFO - 10:40:11: PROGRESS: at sentence #450000, processed 8465953 words, keeping 162909 word types\n",
      "INFO - 10:40:11: PROGRESS: at sentence #460000, processed 8654023 words, keeping 165170 word types\n",
      "INFO - 10:40:11: PROGRESS: at sentence #470000, processed 8841612 words, keeping 167483 word types\n",
      "INFO - 10:40:11: PROGRESS: at sentence #480000, processed 9030456 words, keeping 169732 word types\n",
      "INFO - 10:40:11: PROGRESS: at sentence #490000, processed 9219483 words, keeping 171953 word types\n",
      "INFO - 10:40:11: PROGRESS: at sentence #500000, processed 9406321 words, keeping 173962 word types\n",
      "INFO - 10:40:11: PROGRESS: at sentence #510000, processed 9594718 words, keeping 176289 word types\n",
      "INFO - 10:40:11: PROGRESS: at sentence #520000, processed 9783500 words, keeping 178470 word types\n",
      "INFO - 10:40:11: PROGRESS: at sentence #530000, processed 9972325 words, keeping 180571 word types\n",
      "INFO - 10:40:11: PROGRESS: at sentence #540000, processed 10161289 words, keeping 182641 word types\n",
      "INFO - 10:40:11: PROGRESS: at sentence #550000, processed 10349738 words, keeping 184701 word types\n",
      "INFO - 10:40:12: PROGRESS: at sentence #560000, processed 10536829 words, keeping 186714 word types\n",
      "INFO - 10:40:12: PROGRESS: at sentence #570000, processed 10725821 words, keeping 188796 word types\n",
      "INFO - 10:40:12: PROGRESS: at sentence #580000, processed 10914615 words, keeping 190833 word types\n",
      "INFO - 10:40:12: PROGRESS: at sentence #590000, processed 11102438 words, keeping 192855 word types\n",
      "INFO - 10:40:12: PROGRESS: at sentence #600000, processed 11289941 words, keeping 194923 word types\n",
      "INFO - 10:40:12: PROGRESS: at sentence #610000, processed 11479188 words, keeping 196933 word types\n",
      "INFO - 10:40:12: PROGRESS: at sentence #620000, processed 11667774 words, keeping 198907 word types\n",
      "INFO - 10:40:12: PROGRESS: at sentence #630000, processed 11855798 words, keeping 200813 word types\n",
      "INFO - 10:40:12: PROGRESS: at sentence #640000, processed 12044981 words, keeping 202742 word types\n",
      "INFO - 10:40:12: PROGRESS: at sentence #650000, processed 12234807 words, keeping 204750 word types\n",
      "INFO - 10:40:12: PROGRESS: at sentence #660000, processed 12423505 words, keeping 206683 word types\n",
      "INFO - 10:40:13: PROGRESS: at sentence #670000, processed 12612571 words, keeping 208625 word types\n",
      "INFO - 10:40:13: PROGRESS: at sentence #680000, processed 12800266 words, keeping 210598 word types\n",
      "INFO - 10:40:13: PROGRESS: at sentence #690000, processed 12988656 words, keeping 212666 word types\n",
      "INFO - 10:40:13: PROGRESS: at sentence #700000, processed 13177055 words, keeping 214557 word types\n",
      "INFO - 10:40:13: PROGRESS: at sentence #710000, processed 13364858 words, keeping 216483 word types\n",
      "INFO - 10:40:13: PROGRESS: at sentence #720000, processed 13552760 words, keeping 218364 word types\n",
      "INFO - 10:40:13: PROGRESS: at sentence #730000, processed 13740726 words, keeping 220278 word types\n",
      "INFO - 10:40:13: PROGRESS: at sentence #740000, processed 13928127 words, keeping 222195 word types\n",
      "INFO - 10:40:13: PROGRESS: at sentence #750000, processed 14116187 words, keeping 223971 word types\n",
      "INFO - 10:40:13: PROGRESS: at sentence #760000, processed 14304390 words, keeping 225866 word types\n",
      "INFO - 10:40:13: PROGRESS: at sentence #770000, processed 14493970 words, keeping 227725 word types\n",
      "INFO - 10:40:13: PROGRESS: at sentence #780000, processed 14682018 words, keeping 229548 word types\n",
      "INFO - 10:40:13: PROGRESS: at sentence #790000, processed 14871404 words, keeping 231398 word types\n",
      "INFO - 10:40:13: PROGRESS: at sentence #800000, processed 15060901 words, keeping 233210 word types\n",
      "INFO - 10:40:14: PROGRESS: at sentence #810000, processed 15250445 words, keeping 235117 word types\n",
      "INFO - 10:40:14: PROGRESS: at sentence #820000, processed 15439596 words, keeping 236900 word types\n"
     ]
    },
    {
     "name": "stderr",
     "output_type": "stream",
     "text": [
      "INFO - 10:40:14: PROGRESS: at sentence #830000, processed 15627848 words, keeping 238737 word types\n",
      "INFO - 10:40:14: PROGRESS: at sentence #840000, processed 15815588 words, keeping 240575 word types\n",
      "INFO - 10:40:14: PROGRESS: at sentence #850000, processed 16004760 words, keeping 242420 word types\n",
      "INFO - 10:40:14: PROGRESS: at sentence #860000, processed 16193495 words, keeping 244202 word types\n",
      "INFO - 10:40:14: PROGRESS: at sentence #870000, processed 16382445 words, keeping 246027 word types\n",
      "INFO - 10:40:14: collected 246248 word types from a corpus of 16405018 raw words and 871198 sentences\n",
      "INFO - 10:40:14: Loading a fresh vocabulary\n",
      "INFO - 10:40:14: effective_min_count=5 retains 44278 unique words (17% of original 246248, drops 201970)\n",
      "INFO - 10:40:14: effective_min_count=5 leaves 16126916 word corpus (98% of original 16405018, drops 278102)\n",
      "INFO - 10:40:14: deleting the raw counts dictionary of 246248 items\n",
      "INFO - 10:40:14: sample=0.001 downsamples 53 most-common words\n",
      "INFO - 10:40:14: downsampling leaves estimated 11966785 word corpus (74.2% of prior 16126916)\n",
      "INFO - 10:40:15: estimated required memory for 44278 words and 100 dimensions: 57561400 bytes\n",
      "INFO - 10:40:15: resetting layer weights\n",
      "INFO - 10:40:15: training model with 3 workers on 44278 vocabulary and 100 features, using sg=0 hs=0 sample=0.001 negative=5 window=5\n",
      "INFO - 10:40:16: EPOCH 1 - PROGRESS: at 4.68% examples, 558329 words/s, in_qsize 5, out_qsize 0\n",
      "INFO - 10:40:17: EPOCH 1 - PROGRESS: at 10.78% examples, 642913 words/s, in_qsize 6, out_qsize 0\n",
      "INFO - 10:40:19: EPOCH 1 - PROGRESS: at 16.39% examples, 649782 words/s, in_qsize 5, out_qsize 0\n",
      "INFO - 10:40:20: EPOCH 1 - PROGRESS: at 21.58% examples, 639533 words/s, in_qsize 6, out_qsize 0\n",
      "INFO - 10:40:21: EPOCH 1 - PROGRESS: at 28.04% examples, 665285 words/s, in_qsize 6, out_qsize 0\n",
      "INFO - 10:40:22: EPOCH 1 - PROGRESS: at 34.64% examples, 683883 words/s, in_qsize 5, out_qsize 0\n",
      "INFO - 10:40:23: EPOCH 1 - PROGRESS: at 41.22% examples, 697633 words/s, in_qsize 5, out_qsize 0\n",
      "INFO - 10:40:24: EPOCH 1 - PROGRESS: at 47.00% examples, 695730 words/s, in_qsize 5, out_qsize 0\n",
      "INFO - 10:40:25: EPOCH 1 - PROGRESS: at 52.72% examples, 694373 words/s, in_qsize 6, out_qsize 0\n",
      "INFO - 10:40:26: EPOCH 1 - PROGRESS: at 58.82% examples, 697461 words/s, in_qsize 5, out_qsize 0\n",
      "INFO - 10:40:27: EPOCH 1 - PROGRESS: at 65.15% examples, 702769 words/s, in_qsize 5, out_qsize 0\n",
      "INFO - 10:40:28: EPOCH 1 - PROGRESS: at 71.66% examples, 708996 words/s, in_qsize 5, out_qsize 0\n",
      "INFO - 10:40:29: EPOCH 1 - PROGRESS: at 78.22% examples, 714562 words/s, in_qsize 5, out_qsize 0\n",
      "INFO - 10:40:30: EPOCH 1 - PROGRESS: at 84.44% examples, 716073 words/s, in_qsize 5, out_qsize 0\n",
      "INFO - 10:40:31: EPOCH 1 - PROGRESS: at 90.28% examples, 714752 words/s, in_qsize 6, out_qsize 0\n",
      "INFO - 10:40:32: EPOCH 1 - PROGRESS: at 95.31% examples, 707780 words/s, in_qsize 4, out_qsize 1\n",
      "INFO - 10:40:32: worker thread finished; awaiting finish of 2 more threads\n",
      "INFO - 10:40:32: worker thread finished; awaiting finish of 1 more threads\n",
      "INFO - 10:40:32: worker thread finished; awaiting finish of 0 more threads\n",
      "INFO - 10:40:32: EPOCH - 1 : training on 16405018 raw words (11967093 effective words) took 17.0s, 703558 effective words/s\n",
      "INFO - 10:40:34: EPOCH 2 - PROGRESS: at 5.16% examples, 615421 words/s, in_qsize 5, out_qsize 0\n",
      "INFO - 10:40:35: EPOCH 2 - PROGRESS: at 10.11% examples, 601592 words/s, in_qsize 5, out_qsize 0\n",
      "INFO - 10:40:36: EPOCH 2 - PROGRESS: at 14.87% examples, 589656 words/s, in_qsize 5, out_qsize 0\n",
      "INFO - 10:40:37: EPOCH 2 - PROGRESS: at 18.83% examples, 559776 words/s, in_qsize 6, out_qsize 0\n",
      "INFO - 10:40:38: EPOCH 2 - PROGRESS: at 23.65% examples, 562072 words/s, in_qsize 5, out_qsize 0\n",
      "INFO - 10:40:39: EPOCH 2 - PROGRESS: at 28.89% examples, 572341 words/s, in_qsize 5, out_qsize 0\n",
      "INFO - 10:40:40: EPOCH 2 - PROGRESS: at 34.88% examples, 591817 words/s, in_qsize 4, out_qsize 1\n",
      "INFO - 10:40:41: EPOCH 2 - PROGRESS: at 41.22% examples, 612186 words/s, in_qsize 5, out_qsize 0\n",
      "INFO - 10:40:42: EPOCH 2 - PROGRESS: at 47.43% examples, 626573 words/s, in_qsize 6, out_qsize 0\n",
      "INFO - 10:40:43: EPOCH 2 - PROGRESS: at 53.70% examples, 638132 words/s, in_qsize 5, out_qsize 0\n",
      "INFO - 10:40:44: EPOCH 2 - PROGRESS: at 59.67% examples, 645033 words/s, in_qsize 5, out_qsize 0\n",
      "INFO - 10:40:45: EPOCH 2 - PROGRESS: at 66.05% examples, 654545 words/s, in_qsize 5, out_qsize 0\n",
      "INFO - 10:40:46: EPOCH 2 - PROGRESS: at 72.08% examples, 659626 words/s, in_qsize 5, out_qsize 0\n",
      "INFO - 10:40:47: EPOCH 2 - PROGRESS: at 78.40% examples, 666350 words/s, in_qsize 5, out_qsize 0\n",
      "INFO - 10:40:48: EPOCH 2 - PROGRESS: at 84.68% examples, 671813 words/s, in_qsize 5, out_qsize 0\n",
      "INFO - 10:40:49: EPOCH 2 - PROGRESS: at 90.76% examples, 675279 words/s, in_qsize 6, out_qsize 0\n",
      "INFO - 10:40:50: EPOCH 2 - PROGRESS: at 97.01% examples, 679601 words/s, in_qsize 5, out_qsize 0\n",
      "INFO - 10:40:50: worker thread finished; awaiting finish of 2 more threads\n",
      "INFO - 10:40:50: worker thread finished; awaiting finish of 1 more threads\n",
      "INFO - 10:40:50: worker thread finished; awaiting finish of 0 more threads\n",
      "INFO - 10:40:50: EPOCH - 2 : training on 16405018 raw words (11967389 effective words) took 17.6s, 681384 effective words/s\n",
      "INFO - 10:40:51: EPOCH 3 - PROGRESS: at 6.08% examples, 725763 words/s, in_qsize 5, out_qsize 0\n",
      "INFO - 10:40:52: EPOCH 3 - PROGRESS: at 12.36% examples, 735609 words/s, in_qsize 5, out_qsize 0\n",
      "INFO - 10:40:53: EPOCH 3 - PROGRESS: at 17.97% examples, 713749 words/s, in_qsize 5, out_qsize 1\n",
      "INFO - 10:40:54: EPOCH 3 - PROGRESS: at 23.35% examples, 692787 words/s, in_qsize 6, out_qsize 0\n",
      "INFO - 10:40:55: EPOCH 3 - PROGRESS: at 28.83% examples, 685040 words/s, in_qsize 5, out_qsize 0\n",
      "INFO - 10:40:56: EPOCH 3 - PROGRESS: at 34.46% examples, 682608 words/s, in_qsize 5, out_qsize 0\n",
      "INFO - 10:40:57: EPOCH 3 - PROGRESS: at 38.12% examples, 645650 words/s, in_qsize 6, out_qsize 1\n",
      "INFO - 10:40:58: EPOCH 3 - PROGRESS: at 41.59% examples, 616475 words/s, in_qsize 6, out_qsize 0\n",
      "INFO - 10:40:59: EPOCH 3 - PROGRESS: at 47.12% examples, 620702 words/s, in_qsize 6, out_qsize 0\n",
      "INFO - 10:41:00: EPOCH 3 - PROGRESS: at 53.15% examples, 630225 words/s, in_qsize 6, out_qsize 0\n",
      "INFO - 10:41:01: EPOCH 3 - PROGRESS: at 58.63% examples, 632393 words/s, in_qsize 5, out_qsize 0\n",
      "INFO - 10:41:02: EPOCH 3 - PROGRESS: at 63.50% examples, 626505 words/s, in_qsize 6, out_qsize 1\n",
      "INFO - 10:41:03: EPOCH 3 - PROGRESS: at 68.74% examples, 626316 words/s, in_qsize 5, out_qsize 0\n",
      "INFO - 10:41:04: EPOCH 3 - PROGRESS: at 72.14% examples, 610157 words/s, in_qsize 6, out_qsize 1\n",
      "INFO - 10:41:05: EPOCH 3 - PROGRESS: at 74.93% examples, 591714 words/s, in_qsize 5, out_qsize 0\n",
      "INFO - 10:41:06: EPOCH 3 - PROGRESS: at 78.95% examples, 584478 words/s, in_qsize 5, out_qsize 0\n",
      "INFO - 10:41:07: EPOCH 3 - PROGRESS: at 82.48% examples, 574590 words/s, in_qsize 5, out_qsize 0\n",
      "INFO - 10:41:08: EPOCH 3 - PROGRESS: at 86.76% examples, 570883 words/s, in_qsize 6, out_qsize 0\n",
      "INFO - 10:41:09: EPOCH 3 - PROGRESS: at 91.00% examples, 566928 words/s, in_qsize 4, out_qsize 1\n",
      "INFO - 10:41:10: EPOCH 3 - PROGRESS: at 95.92% examples, 567332 words/s, in_qsize 5, out_qsize 0\n",
      "INFO - 10:41:11: worker thread finished; awaiting finish of 2 more threads\n",
      "INFO - 10:41:11: worker thread finished; awaiting finish of 1 more threads\n",
      "INFO - 10:41:11: worker thread finished; awaiting finish of 0 more threads\n",
      "INFO - 10:41:11: EPOCH - 3 : training on 16405018 raw words (11967273 effective words) took 21.0s, 570410 effective words/s\n",
      "INFO - 10:41:12: EPOCH 4 - PROGRESS: at 5.41% examples, 637573 words/s, in_qsize 5, out_qsize 0\n",
      "INFO - 10:41:13: EPOCH 4 - PROGRESS: at 8.65% examples, 511523 words/s, in_qsize 5, out_qsize 0\n",
      "INFO - 10:41:14: EPOCH 4 - PROGRESS: at 11.63% examples, 458554 words/s, in_qsize 5, out_qsize 0\n",
      "INFO - 10:41:15: EPOCH 4 - PROGRESS: at 16.20% examples, 479530 words/s, in_qsize 6, out_qsize 0\n",
      "INFO - 10:41:16: EPOCH 4 - PROGRESS: at 19.56% examples, 462453 words/s, in_qsize 5, out_qsize 0\n",
      "INFO - 10:41:17: EPOCH 4 - PROGRESS: at 24.26% examples, 478485 words/s, in_qsize 5, out_qsize 0\n",
      "INFO - 10:41:18: EPOCH 4 - PROGRESS: at 28.59% examples, 482096 words/s, in_qsize 5, out_qsize 0\n"
     ]
    },
    {
     "name": "stderr",
     "output_type": "stream",
     "text": [
      "INFO - 10:41:19: EPOCH 4 - PROGRESS: at 33.66% examples, 497014 words/s, in_qsize 5, out_qsize 0\n",
      "INFO - 10:41:20: EPOCH 4 - PROGRESS: at 38.42% examples, 503828 words/s, in_qsize 5, out_qsize 0\n",
      "INFO - 10:41:21: EPOCH 4 - PROGRESS: at 43.47% examples, 513711 words/s, in_qsize 5, out_qsize 0\n",
      "INFO - 10:41:22: EPOCH 4 - PROGRESS: at 49.13% examples, 527947 words/s, in_qsize 6, out_qsize 0\n",
      "INFO - 10:41:23: EPOCH 4 - PROGRESS: at 54.80% examples, 540036 words/s, in_qsize 5, out_qsize 0\n",
      "INFO - 10:41:24: EPOCH 4 - PROGRESS: at 60.82% examples, 553277 words/s, in_qsize 5, out_qsize 0\n",
      "INFO - 10:41:25: EPOCH 4 - PROGRESS: at 67.09% examples, 567057 words/s, in_qsize 5, out_qsize 0\n",
      "INFO - 10:41:26: EPOCH 4 - PROGRESS: at 73.30% examples, 578671 words/s, in_qsize 5, out_qsize 0\n",
      "INFO - 10:41:27: EPOCH 4 - PROGRESS: at 77.97% examples, 577312 words/s, in_qsize 5, out_qsize 0\n",
      "INFO - 10:41:28: EPOCH 4 - PROGRESS: at 83.95% examples, 584756 words/s, in_qsize 5, out_qsize 0\n",
      "INFO - 10:41:29: EPOCH 4 - PROGRESS: at 88.58% examples, 582973 words/s, in_qsize 5, out_qsize 0\n",
      "INFO - 10:41:30: EPOCH 4 - PROGRESS: at 92.64% examples, 577813 words/s, in_qsize 5, out_qsize 0\n",
      "INFO - 10:41:31: EPOCH 4 - PROGRESS: at 96.65% examples, 572423 words/s, in_qsize 5, out_qsize 0\n",
      "INFO - 10:41:32: worker thread finished; awaiting finish of 2 more threads\n",
      "INFO - 10:41:32: worker thread finished; awaiting finish of 1 more threads\n",
      "INFO - 10:41:32: worker thread finished; awaiting finish of 0 more threads\n",
      "INFO - 10:41:32: EPOCH - 4 : training on 16405018 raw words (11963623 effective words) took 21.0s, 568790 effective words/s\n",
      "INFO - 10:41:33: EPOCH 5 - PROGRESS: at 2.12% examples, 246493 words/s, in_qsize 6, out_qsize 0\n",
      "INFO - 10:41:34: EPOCH 5 - PROGRESS: at 4.62% examples, 265036 words/s, in_qsize 6, out_qsize 0\n",
      "INFO - 10:41:35: EPOCH 5 - PROGRESS: at 7.30% examples, 280776 words/s, in_qsize 6, out_qsize 1\n",
      "INFO - 10:41:36: EPOCH 5 - PROGRESS: at 9.62% examples, 278421 words/s, in_qsize 5, out_qsize 0\n",
      "INFO - 10:41:37: EPOCH 5 - PROGRESS: at 12.48% examples, 290857 words/s, in_qsize 5, out_qsize 0\n",
      "INFO - 10:41:38: EPOCH 5 - PROGRESS: at 14.87% examples, 288498 words/s, in_qsize 6, out_qsize 0\n",
      "INFO - 10:41:39: EPOCH 5 - PROGRESS: at 17.12% examples, 285447 words/s, in_qsize 5, out_qsize 0\n",
      "INFO - 10:41:40: EPOCH 5 - PROGRESS: at 20.00% examples, 291813 words/s, in_qsize 6, out_qsize 0\n",
      "INFO - 10:41:41: EPOCH 5 - PROGRESS: at 23.04% examples, 299583 words/s, in_qsize 4, out_qsize 1\n",
      "INFO - 10:41:42: EPOCH 5 - PROGRESS: at 26.09% examples, 304996 words/s, in_qsize 5, out_qsize 0\n",
      "INFO - 10:41:43: EPOCH 5 - PROGRESS: at 28.77% examples, 305646 words/s, in_qsize 5, out_qsize 0\n",
      "INFO - 10:41:44: EPOCH 5 - PROGRESS: at 31.34% examples, 305278 words/s, in_qsize 5, out_qsize 0\n",
      "INFO - 10:41:45: EPOCH 5 - PROGRESS: at 34.64% examples, 311714 words/s, in_qsize 6, out_qsize 0\n",
      "INFO - 10:41:46: EPOCH 5 - PROGRESS: at 38.05% examples, 318153 words/s, in_qsize 6, out_qsize 0\n",
      "INFO - 10:41:48: EPOCH 5 - PROGRESS: at 41.89% examples, 326509 words/s, in_qsize 5, out_qsize 0\n",
      "INFO - 10:41:49: EPOCH 5 - PROGRESS: at 45.54% examples, 332887 words/s, in_qsize 4, out_qsize 1\n",
      "INFO - 10:41:50: EPOCH 5 - PROGRESS: at 48.89% examples, 336422 words/s, in_qsize 5, out_qsize 0\n",
      "INFO - 10:41:51: EPOCH 5 - PROGRESS: at 51.75% examples, 335829 words/s, in_qsize 5, out_qsize 0\n",
      "INFO - 10:41:52: EPOCH 5 - PROGRESS: at 54.68% examples, 336477 words/s, in_qsize 5, out_qsize 0\n",
      "INFO - 10:41:53: EPOCH 5 - PROGRESS: at 57.17% examples, 334411 words/s, in_qsize 5, out_qsize 0\n",
      "INFO - 10:41:54: EPOCH 5 - PROGRESS: at 59.30% examples, 330679 words/s, in_qsize 5, out_qsize 0\n",
      "INFO - 10:41:55: EPOCH 5 - PROGRESS: at 61.91% examples, 329764 words/s, in_qsize 5, out_qsize 0\n",
      "INFO - 10:41:56: EPOCH 5 - PROGRESS: at 64.11% examples, 326458 words/s, in_qsize 5, out_qsize 0\n",
      "INFO - 10:41:57: EPOCH 5 - PROGRESS: at 67.58% examples, 329820 words/s, in_qsize 6, out_qsize 0\n",
      "INFO - 10:41:58: EPOCH 5 - PROGRESS: at 70.87% examples, 332234 words/s, in_qsize 5, out_qsize 0\n",
      "INFO - 10:41:59: EPOCH 5 - PROGRESS: at 72.21% examples, 325442 words/s, in_qsize 5, out_qsize 0\n",
      "INFO - 10:42:00: EPOCH 5 - PROGRESS: at 74.69% examples, 324207 words/s, in_qsize 6, out_qsize 1\n",
      "INFO - 10:42:01: EPOCH 5 - PROGRESS: at 78.64% examples, 329221 words/s, in_qsize 6, out_qsize 0\n",
      "INFO - 10:42:02: EPOCH 5 - PROGRESS: at 81.39% examples, 328967 words/s, in_qsize 5, out_qsize 0\n",
      "INFO - 10:42:03: EPOCH 5 - PROGRESS: at 82.55% examples, 321597 words/s, in_qsize 6, out_qsize 0\n",
      "INFO - 10:42:04: EPOCH 5 - PROGRESS: at 83.70% examples, 315692 words/s, in_qsize 6, out_qsize 0\n",
      "INFO - 10:42:05: EPOCH 5 - PROGRESS: at 86.94% examples, 317800 words/s, in_qsize 6, out_qsize 1\n",
      "INFO - 10:42:06: EPOCH 5 - PROGRESS: at 91.06% examples, 322845 words/s, in_qsize 5, out_qsize 0\n",
      "INFO - 10:42:07: EPOCH 5 - PROGRESS: at 94.46% examples, 325266 words/s, in_qsize 5, out_qsize 0\n",
      "INFO - 10:42:08: EPOCH 5 - PROGRESS: at 98.54% examples, 329530 words/s, in_qsize 6, out_qsize 0\n",
      "INFO - 10:42:08: worker thread finished; awaiting finish of 2 more threads\n",
      "INFO - 10:42:08: worker thread finished; awaiting finish of 1 more threads\n",
      "INFO - 10:42:08: worker thread finished; awaiting finish of 0 more threads\n",
      "INFO - 10:42:08: EPOCH - 5 : training on 16405018 raw words (11967189 effective words) took 36.2s, 330354 effective words/s\n",
      "INFO - 10:42:08: training on a 82025090 raw words (59832567 effective words) took 113.0s, 529703 effective words/s\n"
     ]
    },
    {
     "name": "stdout",
     "output_type": "stream",
     "text": [
      "Time to train the model: 2.03 mins\n"
     ]
    }
   ],
   "source": [
    "t = time()\n",
    "model_w2v = Word2Vec(sentences, workers=3)\n",
    "print('Time to train the model: {} mins'.format(round((time() - t) / 60, 2)))"
   ]
  },
  {
   "cell_type": "markdown",
   "metadata": {},
   "source": [
    "Let's explore the model quickly:\n",
    "\n",
    "* which words are closest to *tweet*, *happy*, and *sad*?"
   ]
  },
  {
   "cell_type": "code",
   "execution_count": 29,
   "metadata": {},
   "outputs": [
    {
     "name": "stdout",
     "output_type": "stream",
     "text": [
      "tweet\n"
     ]
    },
    {
     "name": "stderr",
     "output_type": "stream",
     "text": [
      "INFO - 10:44:43: precomputing L2-norms of word weight vectors\n"
     ]
    },
    {
     "name": "stdout",
     "output_type": "stream",
     "text": [
      "[('reply', 0.767540454864502), ('message', 0.7159344553947449), ('twit', 0.6866358518600464), ('post', 0.678138017654419), ('text', 0.6508252620697021)]\n",
      "\n",
      "happy\n",
      "[('pleased', 0.6360591053962708), ('thrilled', 0.6244389414787292), ('happpy', 0.6203890442848206), ('thankful', 0.6077747941017151), ('blessed', 0.5924043655395508)]\n",
      "\n",
      "sad\n",
      "[('upset', 0.766880214214325), ('depressed', 0.746283233165741), ('bummed', 0.7132532000541687), ('disappointed', 0.7101408243179321), ('saddd', 0.7009017467498779)]\n",
      "\n"
     ]
    }
   ],
   "source": [
    "for x in ['tweet', 'happy', 'sad']:\n",
    "    print(x)\n",
    "    print(model_w2v.wv.most_similar(positive=x, topn=5))\n",
    "    print()"
   ]
  },
  {
   "cell_type": "markdown",
   "metadata": {},
   "source": [
    "* How similar are *sad* and *joy*? *Sad* and *unhappy*?"
   ]
  },
  {
   "cell_type": "code",
   "execution_count": 30,
   "metadata": {},
   "outputs": [
    {
     "data": {
      "text/plain": [
       "0.002171792"
      ]
     },
     "execution_count": 30,
     "metadata": {},
     "output_type": "execute_result"
    }
   ],
   "source": [
    "model_w2v.wv.similarity(w1='sad', w2='joy')"
   ]
  },
  {
   "cell_type": "code",
   "execution_count": 31,
   "metadata": {},
   "outputs": [
    {
     "data": {
      "text/plain": [
       "0.6453774"
      ]
     },
     "execution_count": 31,
     "metadata": {},
     "output_type": "execute_result"
    }
   ],
   "source": [
    "model_w2v.wv.similarity(w1='sad', w2='unhappy')"
   ]
  },
  {
   "cell_type": "markdown",
   "metadata": {},
   "source": [
    "* Which of *phone*, *iphone*, and *dentist*, is the odd-one-out?"
   ]
  },
  {
   "cell_type": "code",
   "execution_count": 90,
   "metadata": {},
   "outputs": [
    {
     "data": {
      "text/plain": [
       "'banana'"
      ]
     },
     "execution_count": 90,
     "metadata": {},
     "output_type": "execute_result"
    }
   ],
   "source": [
    "model_w2v.wv.doesnt_match(['phone', 'iphone', 'banana'])"
   ]
  },
  {
   "cell_type": "markdown",
   "metadata": {},
   "source": [
    "Saving the model and the model's word vectors:"
   ]
  },
  {
   "cell_type": "code",
   "execution_count": 34,
   "metadata": {},
   "outputs": [
    {
     "name": "stderr",
     "output_type": "stream",
     "text": [
      "INFO - 10:46:04: saving Word2Vec object under models\\model_w2v.w2v, separately None\n",
      "INFO - 10:46:04: not storing attribute vectors_norm\n",
      "INFO - 10:46:04: not storing attribute cum_table\n",
      "INFO - 10:46:06: saved models\\model_w2v.w2v\n"
     ]
    }
   ],
   "source": [
    "model_w2v.save('models\\model_w2v.w2v')"
   ]
  },
  {
   "cell_type": "code",
   "execution_count": 35,
   "metadata": {
    "scrolled": true
   },
   "outputs": [
    {
     "name": "stderr",
     "output_type": "stream",
     "text": [
      "INFO - 10:46:08: storing 44278x100 projection weights into models\\model_w2v.vectors\n"
     ]
    }
   ],
   "source": [
    "model_w2v.wv.save_word2vec_format(fname='models\\model_w2v.vectors')"
   ]
  },
  {
   "cell_type": "markdown",
   "metadata": {},
   "source": [
    "# SPPMI - SVD: an alternative to Word2Vec"
   ]
  },
  {
   "cell_type": "markdown",
   "metadata": {},
   "source": [
    "In the 2014 research paper by Omer Levy and Yoav Goldberg *Neural Word Embedding as Implicit Matrix Factorization* [[3]](#References), in the 2016 blog post by Sebastian Ruder *On word embeddings - Part 3: The secret ingredients of word2vec* [[5]](#References), and in the 2017 blog post of Chris Moody *Stop Using Word2Vec* [[6]](#References), an alternative to Word2Vec is outlined in order to get vector representation of words. Instead of using a shallow neural network and a cost function optimization, this approach only uses word co-occurences, information theory and matrix factorization.\n",
    "\n",
    "In a nutshell, PMI - SVD can be summed up in 5 steps:\n",
    "1. Collecting the frequency of each word in the corpus\n",
    "2. Calculating the probability for word1 to been seen next to word2 (co-occurence matrix)\n",
    "3. Calculating the Pointwise Mutual Information (PMI) of word1 and word2. In the information theory field, this represents how often word1 and word2 are associated together\n",
    "4. Reducing the dimension of the PMI matrix with a Singular Value Decomposition.\n",
    "\n",
    "I added some steps in my implementation of the method, namely:\n",
    "1. **Minimum Count**: ignoring words below a certain frequency, if a word only appears once or twice in more than 1 million tweets, we won't be able to learn a useful embedding for it.\n",
    "2. **Downsampling**: just like for Word2Vec, this step reduces the influence of higher-frequency words, such as \"the\", \"she\", \"have\", etc. \n",
    "3. **Shifted Positive PMI (SPPMI)**: offsetting the PMI of two words by a constant, this is equivalent to Word2Vec negative sampling. (Referenced both in Omer Levy and Yoav Goldberg research paper [[4]](#References) and in Sebastian Ruder's [blog post](http://ruder.io/secret-word2vec/index.html#shiftedpmi))"
   ]
  },
  {
   "cell_type": "markdown",
   "metadata": {},
   "source": [
    "## Training a SPPMI - SVD model"
   ]
  },
  {
   "cell_type": "markdown",
   "metadata": {},
   "source": [
    "This is my own implementation of a SPPMI - SVD model in python:"
   ]
  },
  {
   "cell_type": "code",
   "execution_count": 36,
   "metadata": {},
   "outputs": [],
   "source": [
    "from pierre_sppmi_svd.sppmi_svd import SPPMI_SVD"
   ]
  },
  {
   "cell_type": "markdown",
   "metadata": {},
   "source": [
    "Training the model with the same hyperparameters as the one used in the Word2Vec model.<br>\n",
    "An explanation of the other parameters:\n",
    "* `context_alpha=0.75`: How negative samples are drawn from the corpus (cf. Sebastian Ruder's [blog post](http://ruder.io/secret-word2vec/index.html#contextdistributionsmoothing)). Empirically set to 0.75 by Mikolov et al. in their 2013 paper *Distributed Representations of Words and Phrases and their Compositionality* [[2]](#References)\n",
    "* `filename`: I added some built-in functions to save a model to file"
   ]
  },
  {
   "cell_type": "code",
   "execution_count": 37,
   "metadata": {
    "scrolled": true
   },
   "outputs": [
    {
     "name": "stderr",
     "output_type": "stream",
     "text": [
      "INFO - 10:46:55: Starting the creation of the model.\n",
      "INFO - 10:46:55: Starting unigrams count.\n",
      "INFO - 10:46:55: PROGRESS: at sentence #0, processed 0 words, keeping 0 unique word\n",
      "INFO - 10:46:57: PROGRESS: at sentence #100000, processed 64609 words, keeping 64609 unique word\n",
      "INFO - 10:46:58: PROGRESS: at sentence #200000, processed 99075 words, keeping 99075 unique word\n",
      "INFO - 10:46:59: PROGRESS: at sentence #300000, processed 126938 words, keeping 126938 unique word\n",
      "INFO - 10:47:00: PROGRESS: at sentence #400000, processed 151425 words, keeping 151425 unique word\n",
      "INFO - 10:47:01: PROGRESS: at sentence #500000, processed 173962 words, keeping 173962 unique word\n",
      "INFO - 10:47:02: PROGRESS: at sentence #600000, processed 194923 words, keeping 194923 unique word\n",
      "INFO - 10:47:03: PROGRESS: at sentence #700000, processed 214557 words, keeping 214557 unique word\n",
      "INFO - 10:47:04: PROGRESS: at sentence #800000, processed 233210 words, keeping 233210 unique word\n",
      "INFO - 10:47:05: Ending unigrams count.\n",
      "INFO - 10:47:05: collected 246248 word types from a corpus of 246248 raw words and 871197 sentences\n",
      "INFO - 10:47:05: 246248 tokens before min_count=5\n",
      "INFO - 10:47:05: 246248 tokens after min_count=5\n",
      "INFO - 10:47:06: sample=0.001 downsamples 51 most-common words and leaves 246197 untouched\n",
      "INFO - 10:47:06: downsampling leaves estimated 12278926 word corpus (74.85% of prior 16405018)\n",
      "INFO - 10:47:06: Starting the co-occurence count.\n",
      "INFO - 10:47:06: PROGRESS: processing sentence #0\n",
      "INFO - 10:47:32: PROGRESS: processing sentence #100000\n",
      "INFO - 10:48:02: PROGRESS: processing sentence #200000\n",
      "INFO - 10:48:39: PROGRESS: processing sentence #300000\n",
      "INFO - 10:49:14: PROGRESS: processing sentence #400000\n",
      "INFO - 10:50:13: PROGRESS: processing sentence #500000\n",
      "INFO - 10:50:49: PROGRESS: processing sentence #600000\n",
      "INFO - 10:51:22: PROGRESS: processing sentence #700000\n",
      "INFO - 10:51:54: PROGRESS: processing sentence #800000\n",
      "INFO - 10:52:19: Ending the co-occurence count.\n",
      "INFO - 10:52:19: 18790479 total bigrams\n",
      "INFO - 10:52:19: Creating the SPPMI matrix\n",
      "INFO - 10:52:19: Context distribution smoothing with alpha=0.75\n",
      "INFO - 10:52:20: Negative sampling / Shifted PMI with k=5\n",
      "INFO - 10:54:19: SPPMI matrix created\n",
      "INFO - 10:54:19: 9743294 non-zero elements\n",
      "INFO - 10:54:19: Starting the SVD decomposition\n",
      "INFO - 10:56:09: Ending the SVD decomposition\n",
      "INFO - 10:56:09: 246248 word vector of dimension 100\n",
      "INFO - 10:56:13: Model created\n"
     ]
    },
    {
     "name": "stdout",
     "output_type": "stream",
     "text": [
      "Time to build the model: 9.67 mins\n"
     ]
    }
   ],
   "source": [
    "t = time()\n",
    "model_svd = SPPMI_SVD()\n",
    "model_svd.train(sentences, min_count=5, sample=1e-3,\n",
    "                window=5, context_alpha=0.75, negative=5,\n",
    "                size=100, filename='models/model_svd')\n",
    "print('Time to build the model: {} mins'.format(round((time() - t) / 60, 2)))"
   ]
  },
  {
   "cell_type": "markdown",
   "metadata": {},
   "source": [
    "Let's briefly explore this model as well:\n",
    "\n",
    "* which words are closest to *tweet*, *happy*, and *sad*?"
   ]
  },
  {
   "cell_type": "code",
   "execution_count": 38,
   "metadata": {},
   "outputs": [
    {
     "name": "stdout",
     "output_type": "stream",
     "text": [
      "tweet\n",
      "[(0.8505446456842223, 'calling'), (0.8495776193862725, 'read'), (0.8495180397542714, 'tweets'), (0.8469429176027146, 'bye'), (0.8430300546680312, ';)')]\n",
      "\n",
      "happy\n",
      "[(0.945999497086144, 'birthday'), (0.880208664436888, 'b-day'), (0.8734960561571478, 'bday'), (0.8417066940938347, 'party'), (0.8306431474125364, \"mother's\")]\n",
      "\n",
      "sad\n",
      "[(0.9005389780325246, 'upset'), (0.8694543835106927, 'makes'), (0.8580330362656811, 'cool'), (0.8569899488119206, 'bad'), (0.8516815302520757, 'very')]\n",
      "\n"
     ]
    }
   ],
   "source": [
    "for x in ['tweet', 'happy', 'sad']:\n",
    "    print(x)\n",
    "    print(model_svd.most_similar(x))\n",
    "    print()"
   ]
  },
  {
   "cell_type": "markdown",
   "metadata": {},
   "source": [
    "* How similar are *sad* and *joy*? *Sad* and *unhappy*?"
   ]
  },
  {
   "cell_type": "code",
   "execution_count": 39,
   "metadata": {},
   "outputs": [
    {
     "data": {
      "text/plain": [
       "0.615120747879863"
      ]
     },
     "execution_count": 39,
     "metadata": {},
     "output_type": "execute_result"
    }
   ],
   "source": [
    "model_svd.similarity('sad', 'joy')"
   ]
  },
  {
   "cell_type": "code",
   "execution_count": 40,
   "metadata": {},
   "outputs": [
    {
     "data": {
      "text/plain": [
       "0.5916505460246356"
      ]
     },
     "execution_count": 40,
     "metadata": {},
     "output_type": "execute_result"
    }
   ],
   "source": [
    "model_svd.similarity('sad', 'unhappy')"
   ]
  },
  {
   "cell_type": "markdown",
   "metadata": {},
   "source": [
    "Looking at the similarities and synonyms, SPPMI - SVD doesn't seem to do as well a job as Word2Vec. We will see if the word embeddings we obtained with SPPMI - SVD can still be used for Sentiment Analysis.\n",
    "\n",
    "Let's save the vectors into file:"
   ]
  },
  {
   "cell_type": "code",
   "execution_count": 41,
   "metadata": {
    "scrolled": true
   },
   "outputs": [
    {
     "name": "stderr",
     "output_type": "stream",
     "text": [
      "INFO - 10:57:44: Saved 246248 word vector under models/model_svd.vectors\n"
     ]
    }
   ],
   "source": [
    "model_svd.save_vectors()"
   ]
  },
  {
   "cell_type": "markdown",
   "metadata": {},
   "source": [
    "# Creation of spaCy models from our word vectors"
   ]
  },
  {
   "cell_type": "markdown",
   "metadata": {},
   "source": [
    "We are using [spaCy](https://spacy.io/api/cli#init-model) to create easy and intuitive word-vector models. One advantage of using our word vectors through spaCy-like models, is that spaCy model API automatically averages the word vectors of a sentence for us."
   ]
  },
  {
   "cell_type": "code",
   "execution_count": 44,
   "metadata": {},
   "outputs": [],
   "source": [
    "def create_spacy_model(filename):\n",
    "    \"\"\" Creates spaCy model out of a model's word vectors. \"\"\"\n",
    "    command = 'python -m spacy init-model en {} --vectors-loc {}.vectors'.format(filename, filename)\n",
    "\n",
    "    print('Starting command \\'' + command + '\\'')\n",
    "    res = os.system(command)\n",
    "\n",
    "    if res == 0:\n",
    "        print('Completed with exit code {}'.format(res))\n",
    "    else:\n",
    "        print('Completed in error with exit code {}'.format(res))\n",
    "        raise Exception('Bad exit code')"
   ]
  },
  {
   "cell_type": "markdown",
   "metadata": {},
   "source": [
    "* spaCy model for Word2Vec:"
   ]
  },
  {
   "cell_type": "code",
   "execution_count": 45,
   "metadata": {
    "scrolled": false
   },
   "outputs": [
    {
     "name": "stdout",
     "output_type": "stream",
     "text": [
      "Starting command 'python -m spacy init-model en models\\model_w2v --vectors-loc models\\model_w2v.vectors'\n",
      "Completed with exit code 0\n"
     ]
    }
   ],
   "source": [
    "create_spacy_model('models\\model_w2v')"
   ]
  },
  {
   "cell_type": "code",
   "execution_count": 46,
   "metadata": {},
   "outputs": [],
   "source": [
    "w2v = spacy.load('models\\model_w2v')"
   ]
  },
  {
   "cell_type": "code",
   "execution_count": 47,
   "metadata": {
    "scrolled": false
   },
   "outputs": [
    {
     "data": {
      "text/plain": [
       "array([ 4.9360871e-01, -4.0373829e-01, -7.3135686e-01,  6.7814432e-02,\n",
       "        3.2670039e-01, -3.6968055e-01,  4.2483974e-01,  6.0680234e-01,\n",
       "        2.7229679e-01,  7.5300694e-02, -9.3267995e-01,  1.1516744e+00,\n",
       "       -2.1599710e-01,  9.2498976e-01, -8.6214191e-01,  1.4533650e+00,\n",
       "        1.8456541e+00,  4.0709034e-01,  4.8833296e-01,  8.5335189e-01,\n",
       "        5.8849347e-01,  6.3176751e-01,  3.0086210e-01, -8.8955039e-01,\n",
       "       -2.3232644e+00, -6.7330527e-01,  1.3408600e+00, -1.7199874e-02,\n",
       "       -9.6941453e-01, -7.6843578e-01, -1.3020439e+00,  6.4063293e-01,\n",
       "        2.6226482e-01,  6.3013635e-03, -2.2732913e-03, -1.5816294e+00,\n",
       "       -2.3162031e-01, -6.4014089e-01,  1.9306637e+00, -2.3000325e-01,\n",
       "        1.3733950e+00,  5.4681206e-01, -7.0206547e-01,  4.7222617e-01,\n",
       "        1.9982543e+00, -7.7410140e-03, -1.9335833e+00, -8.3441615e-02,\n",
       "        9.9696332e-01,  2.4098861e+00, -3.4839353e-01, -8.8258457e-01,\n",
       "       -4.0350989e-01,  9.7480059e-01,  2.9427424e-01,  9.2753959e-01,\n",
       "       -1.0028471e+00,  6.3145095e-01, -7.2773534e-01, -3.0623386e-02,\n",
       "        7.4123335e-01, -2.6117164e-01,  4.9768427e-01,  3.1397620e-01,\n",
       "        4.8684660e-01,  8.5301042e-01,  7.2921199e-01,  4.9818668e-01,\n",
       "       -5.8712590e-01,  4.2697981e-01, -6.4734705e-02, -8.1085026e-02,\n",
       "       -1.7973009e+00,  2.3272071e+00, -1.6685654e+00,  8.3501917e-01,\n",
       "        2.2145671e-01, -4.5928556e-02, -1.9442701e-01,  1.8550961e-01,\n",
       "       -7.7630466e-01,  1.2211943e-01, -7.0867740e-02, -1.3121268e+00,\n",
       "       -4.7877324e-01,  2.8354347e-01, -1.0501586e+00,  6.3968140e-01,\n",
       "        9.1646515e-02,  1.2046441e+00, -5.0537014e-01,  4.6106651e-01,\n",
       "       -6.6218114e-01,  1.5124289e+00, -1.0610751e+00,  1.1274394e-01,\n",
       "       -3.2535902e-01,  1.0598844e+00, -1.9445789e-01,  1.8570446e+00],\n",
       "      dtype=float32)"
      ]
     },
     "execution_count": 47,
     "metadata": {},
     "output_type": "execute_result"
    }
   ],
   "source": [
    "w2v('I feel sad').vector"
   ]
  },
  {
   "cell_type": "markdown",
   "metadata": {},
   "source": [
    "* spaCy model for SPPMI - SVD:"
   ]
  },
  {
   "cell_type": "code",
   "execution_count": 48,
   "metadata": {
    "scrolled": true
   },
   "outputs": [
    {
     "name": "stdout",
     "output_type": "stream",
     "text": [
      "Starting command 'python -m spacy init-model en models\\model_svd --vectors-loc models\\model_svd.vectors'\n",
      "Completed with exit code 0\n"
     ]
    }
   ],
   "source": [
    "create_spacy_model('models\\model_svd')"
   ]
  },
  {
   "cell_type": "code",
   "execution_count": 49,
   "metadata": {},
   "outputs": [],
   "source": [
    "svd = spacy.load('models\\model_svd')"
   ]
  },
  {
   "cell_type": "code",
   "execution_count": 50,
   "metadata": {
    "scrolled": true
   },
   "outputs": [
    {
     "data": {
      "text/plain": [
       "array([-0.07221159,  0.0020665 , -0.04702758,  0.07317644,  0.09699161,\n",
       "       -0.05983282, -0.09704677, -0.01771402, -0.02714226,  0.02673862,\n",
       "        0.00806751,  0.04758884,  0.03091562, -0.04543032, -0.00141869,\n",
       "        0.05984965, -0.05673602,  0.05264436, -0.02160857,  0.07892204,\n",
       "       -0.05177593,  0.0531452 ,  0.06102423, -0.06467202,  0.01398815,\n",
       "        0.03977588, -0.0472517 ,  0.04298294, -0.00842079, -0.03123913,\n",
       "       -0.04748407, -0.00665995, -0.06676573,  0.02728237,  0.02001343,\n",
       "        0.02803566,  0.09914891, -0.0108225 ,  0.04433878,  0.06577053,\n",
       "       -0.04147626, -0.02418843,  0.04766657,  0.00081633,  0.02670601,\n",
       "        0.05926756, -0.03076327,  0.00445091, -0.11256451, -0.03684159,\n",
       "        0.02856413, -0.01483583, -0.04542365, -0.00432092,  0.0112543 ,\n",
       "        0.0658531 , -0.01808496,  0.01440693, -0.02174714,  0.02151062,\n",
       "        0.06138566, -0.03465845,  0.00102009, -0.02446709,  0.00456469,\n",
       "       -0.04884902,  0.03167627,  0.02098353, -0.01028409,  0.0226131 ,\n",
       "        0.01541386, -0.01920778,  0.04638809, -0.01956601, -0.00306277,\n",
       "        0.00491748,  0.02688812, -0.04238101,  0.00814826, -0.05155239,\n",
       "        0.00851871, -0.01122072,  0.10267428,  0.03204434,  0.07767668,\n",
       "       -0.11854166,  0.00304944,  0.08479035,  0.05885055, -0.02833585,\n",
       "        0.0460388 ,  0.02080626, -0.03610764,  0.01274538,  0.00099004,\n",
       "        0.00092619, -0.00871008, -0.06894625,  0.01443019, -0.06821425],\n",
       "      dtype=float32)"
      ]
     },
     "execution_count": 50,
     "metadata": {},
     "output_type": "execute_result"
    }
   ],
   "source": [
    "svd('This movie makes me happy !').vector"
   ]
  },
  {
   "cell_type": "markdown",
   "metadata": {},
   "source": [
    "# Vectorizing training and test sets"
   ]
  },
  {
   "cell_type": "markdown",
   "metadata": {},
   "source": [
    "Here's when spaCy built-in sentence average of word vectors comes in handy.\n",
    "\n",
    "* Training and testing sets vectorization for Word2Vec:"
   ]
  },
  {
   "cell_type": "code",
   "execution_count": 53,
   "metadata": {
    "scrolled": true
   },
   "outputs": [
    {
     "name": "stdout",
     "output_type": "stream",
     "text": [
      "13 mins\n"
     ]
    }
   ],
   "source": [
    "t = time()\n",
    "train_vecs_w2v = [doc.vector for doc in w2v.pipe(x_train.tolist(), n_threads=-1, batch_size=50000)]\n",
    "print(\"{} mins\".format(round((time() - t) / 60)))"
   ]
  },
  {
   "cell_type": "code",
   "execution_count": 54,
   "metadata": {
    "scrolled": true
   },
   "outputs": [
    {
     "name": "stdout",
     "output_type": "stream",
     "text": [
      "2 mins\n"
     ]
    }
   ],
   "source": [
    "t = time()\n",
    "test_vecs_w2v = [doc.vector for doc in w2v.pipe(x_test.tolist(), n_threads=-1, batch_size=50000)]\n",
    "print(\"{} mins\".format(round((time() - t) / 60)))"
   ]
  },
  {
   "cell_type": "markdown",
   "metadata": {},
   "source": [
    "* Training and testing sets vectorization for SPPMI - SVD:"
   ]
  },
  {
   "cell_type": "code",
   "execution_count": 55,
   "metadata": {
    "scrolled": true
   },
   "outputs": [
    {
     "name": "stdout",
     "output_type": "stream",
     "text": [
      "11 mins\n"
     ]
    }
   ],
   "source": [
    "t = time()\n",
    "train_vecs_svd = [doc.vector for doc in svd.pipe(x_train.tolist(), n_threads=-1, batch_size=50000)]\n",
    "print(\"{} mins\".format(round((time() - t) / 60)))"
   ]
  },
  {
   "cell_type": "code",
   "execution_count": 56,
   "metadata": {
    "scrolled": true
   },
   "outputs": [
    {
     "name": "stdout",
     "output_type": "stream",
     "text": [
      "3 mins\n"
     ]
    }
   ],
   "source": [
    "t = time()\n",
    "test_vecs_svd = [doc.vector for doc in svd.pipe(x_test.tolist(), n_threads=-1, batch_size=50000)]\n",
    "print(\"{} mins\".format(round((time() - t) / 60)))"
   ]
  },
  {
   "cell_type": "markdown",
   "metadata": {},
   "source": [
    "# Classifier\n",
    "\n",
    "## Stochastic Gradient Descent  Classifier\n",
    "\n",
    "From [scikit-learn:](https://scikit-learn.org/stable/modules/sgd.html)\n",
    "\n",
    "> \"Stochastic Gradient Descent (SGD) is a simple yet very efficient approach to discriminative learning of linear classifiers under convex loss functions such as (linear) Support Vector Machines and Logistic Regression.\n",
    ">\n",
    "> SGD has been successfully applied to large-scale and sparse machine learning problems often encountered in text classification and natural language processing. Given that the data is sparse, the classifiers in this module easily scale to problems with more than 10^5 training examples and more than 10^5 features.\n",
    ">\n",
    "> The advantages of Stochastic Gradient Descent are:\n",
    "* Efficiency.\n",
    "* Ease of implementation (lots of opportunities for code tuning).\n",
    ">\n",
    "> The disadvantages of Stochastic Gradient Descent include:\n",
    "* SGD requires a number of hyperparameters such as the regularization parameter and the number of iterations.\n",
    "* SGD is sensitive to feature scaling.\"\n",
    "\n",
    "\n",
    "As stated by scikit-learn, Stochastic Gradient Descent Classifiers are very efficient and fast when it comes to train a model with 1 million or more data points, as we have now."
   ]
  },
  {
   "cell_type": "code",
   "execution_count": 57,
   "metadata": {},
   "outputs": [],
   "source": [
    "from sklearn.linear_model import SGDClassifier\n",
    "from sklearn.model_selection import GridSearchCV\n",
    "from sklearn.metrics import roc_curve, auc, classification_report"
   ]
  },
  {
   "cell_type": "markdown",
   "metadata": {},
   "source": [
    "* Training of a Logistic Regression for Word2Vec word embeddings:"
   ]
  },
  {
   "cell_type": "code",
   "execution_count": 80,
   "metadata": {
    "scrolled": true
   },
   "outputs": [
    {
     "name": "stdout",
     "output_type": "stream",
     "text": [
      "-- Epoch 1\n",
      "Norm: 238.77, NNZs: 81, Bias: -1.129978, T: 871198, Avg. loss: 0.715777\n",
      "Total training time: 1.27 seconds.\n",
      "-- Epoch 2\n",
      "Norm: 238.95, NNZs: 80, Bias: -1.085743, T: 1742396, Avg. loss: 0.533325\n",
      "Total training time: 2.31 seconds.\n",
      "-- Epoch 3\n",
      "Norm: 239.02, NNZs: 83, Bias: -1.111631, T: 2613594, Avg. loss: 0.529996\n",
      "Total training time: 3.37 seconds.\n",
      "-- Epoch 4\n",
      "Norm: 239.07, NNZs: 86, Bias: -1.065068, T: 3484792, Avg. loss: 0.528640\n",
      "Total training time: 4.38 seconds.\n",
      "-- Epoch 5\n",
      "Norm: 239.11, NNZs: 87, Bias: -1.130737, T: 4355990, Avg. loss: 0.527944\n",
      "Total training time: 5.40 seconds.\n",
      "-- Epoch 6\n",
      "Norm: 239.14, NNZs: 89, Bias: -1.063153, T: 5227188, Avg. loss: 0.527556\n",
      "Total training time: 6.40 seconds.\n",
      "-- Epoch 7\n",
      "Norm: 239.16, NNZs: 85, Bias: -1.091336, T: 6098386, Avg. loss: 0.527111\n",
      "Total training time: 7.40 seconds.\n",
      "-- Epoch 8\n",
      "Norm: 239.18, NNZs: 85, Bias: -1.065449, T: 6969584, Avg. loss: 0.526873\n",
      "Total training time: 8.41 seconds.\n",
      "-- Epoch 9\n",
      "Norm: 239.19, NNZs: 88, Bias: -1.074759, T: 7840782, Avg. loss: 0.526726\n",
      "Total training time: 9.66 seconds.\n",
      "Convergence after 9 epochs took 9.67 seconds\n",
      "\n",
      "Time to train the model: 0.19 mins\n"
     ]
    }
   ],
   "source": [
    "t = time()\n",
    "Model_w2v = SGDClassifier(loss='log', penalty='l1', verbose=2)\n",
    "Model_w2v.fit(train_vecs_w2v, y_train)\n",
    "print('\\nTime to train the model: {} mins'.format(round((time() - t) / 60, 2)))"
   ]
  },
  {
   "cell_type": "markdown",
   "metadata": {},
   "source": [
    "* Training of a Logistic Regression for SPPMI - SVD word embeddings:"
   ]
  },
  {
   "cell_type": "code",
   "execution_count": 81,
   "metadata": {
    "scrolled": true
   },
   "outputs": [
    {
     "name": "stdout",
     "output_type": "stream",
     "text": [
      "-- Epoch 1\n",
      "Norm: 71.21, NNZs: 71, Bias: -0.059940, T: 871198, Avg. loss: 0.580348\n",
      "Total training time: 1.07 seconds.\n",
      "-- Epoch 2\n",
      "Norm: 73.35, NNZs: 70, Bias: -0.119230, T: 1742396, Avg. loss: 0.573776\n",
      "Total training time: 2.09 seconds.\n",
      "-- Epoch 3\n",
      "Norm: 74.57, NNZs: 69, Bias: -0.039965, T: 2613594, Avg. loss: 0.573397\n",
      "Total training time: 3.11 seconds.\n",
      "-- Epoch 4\n",
      "Norm: 75.42, NNZs: 69, Bias: -0.013962, T: 3484792, Avg. loss: 0.573246\n",
      "Total training time: 4.07 seconds.\n",
      "-- Epoch 5\n",
      "Norm: 76.07, NNZs: 69, Bias: -0.083402, T: 4355990, Avg. loss: 0.573144\n",
      "Total training time: 5.10 seconds.\n",
      "-- Epoch 6\n",
      "Norm: 76.60, NNZs: 69, Bias: -0.045483, T: 5227188, Avg. loss: 0.573094\n",
      "Total training time: 6.16 seconds.\n",
      "-- Epoch 7\n",
      "Norm: 77.04, NNZs: 69, Bias: -0.085731, T: 6098386, Avg. loss: 0.573041\n",
      "Total training time: 7.19 seconds.\n",
      "Convergence after 7 epochs took 7.19 seconds\n",
      "\n",
      "Time to train the model: 0.23 mins\n"
     ]
    }
   ],
   "source": [
    "t = time()\n",
    "Model_svd = SGDClassifier(loss='log', penalty='l1', verbose=2)\n",
    "Model_svd.fit(X=train_vecs_svd, y=y_train)\n",
    "print('\\nTime to train the model: {} mins'.format(round((time() - t) / 60, 2)))"
   ]
  },
  {
   "cell_type": "markdown",
   "metadata": {},
   "source": [
    "## Models comparison"
   ]
  },
  {
   "cell_type": "markdown",
   "metadata": {},
   "source": [
    "Which accuracies are we reaching on the test set?"
   ]
  },
  {
   "cell_type": "code",
   "execution_count": 63,
   "metadata": {
    "scrolled": true
   },
   "outputs": [
    {
     "name": "stdout",
     "output_type": "stream",
     "text": [
      "Word2Vec  Test Accuracy: 0.74\n",
      "SPPMI-SVD Test Accuracy: 0.70\n"
     ]
    }
   ],
   "source": [
    "print('Word2Vec  Test Accuracy: {:.2f}'.format(Model_w2v.score(test_vecs_w2v, y_test)))\n",
    "print('SPPMI-SVD Test Accuracy: {:.2f}'.format(Model_svd.score(test_vecs_svd, y_test)))"
   ]
  },
  {
   "cell_type": "markdown",
   "metadata": {},
   "source": [
    "* For Word2Vec **74%**, not amazing but decent, especially with a simple linear model, no tuning, and minimal pre-processing of the text. \n",
    "* However, for SPPMI - SVD, **70%** is very close to the accuracy on the Word2Vec embeddings ! Let's look at other metrics to compare them fully.\n",
    "\n",
    "\n",
    "How are the [ROC curves and their corresponding AUC](https://machinelearningmastery.com/roc-curves-and-precision-recall-curves-for-classification-in-python/)? "
   ]
  },
  {
   "cell_type": "code",
   "execution_count": 67,
   "metadata": {},
   "outputs": [
    {
     "data": {
      "image/png": "[encoded data removed]",
      "text/plain": [
       "<Figure size 432x288 with 1 Axes>"
      ]
     },
     "metadata": {
      "needs_background": "light"
     },
     "output_type": "display_data"
    }
   ],
   "source": [
    "plt.figure(0).clf()\n",
    "\n",
    "# ROC curve and AUC for Word2Vec\n",
    "y_pred_w2v = Model_w2v.predict_proba(test_vecs_w2v)[:,1]\n",
    "fpr, tpr, _ = roc_curve(y_test, y_pred_w2v)\n",
    "roc_auc = auc(fpr, tpr)\n",
    "plt.plot(fpr, tpr, label=\"W2V embeddings, area={:.2f}\".format(roc_auc))\n",
    "\n",
    "# ROC curve and AUC for SPPMI - SVD\n",
    "y_pred_svd = Model_svd.predict_proba(test_vecs_svd)[:,1]\n",
    "fpr, tpr, _ = roc_curve(y_test, y_pred_svd)\n",
    "roc_auc = auc(fpr, tpr)\n",
    "plt.plot(fpr, tpr, label=\"SPPMI-SVD embeddings, area={:.2f}\".format(roc_auc))\n",
    "\n",
    "plt.plot([0, 1], [0, 1], 'k--')\n",
    "plt.xlim([0.0, 1.0])\n",
    "plt.ylim([0.0, 1.0])\n",
    "plt.legend(loc='lower right')\n",
    "plt.show()"
   ]
  },
  {
   "cell_type": "markdown",
   "metadata": {},
   "source": [
    "The ROC curves are very similar to each other and decent, the AUC for SPPMI - SVD is smaller though, 0.77 compared to 0.81.\n",
    "\n",
    "Let's have look a the two confusion matrix."
   ]
  },
  {
   "cell_type": "markdown",
   "metadata": {},
   "source": [
    "* Word2Vec confusion matrix:"
   ]
  },
  {
   "cell_type": "code",
   "execution_count": 71,
   "metadata": {
    "scrolled": true
   },
   "outputs": [
    {
     "name": "stdout",
     "output_type": "stream",
     "text": [
      "              precision    recall  f1-score   support\n",
      "\n",
      "           0       0.78      0.73      0.75    120415\n",
      "           1       0.69      0.75      0.72     97385\n",
      "\n",
      "    accuracy                           0.74    217800\n",
      "   macro avg       0.73      0.74      0.73    217800\n",
      "weighted avg       0.74      0.74      0.74    217800\n",
      "\n"
     ]
    }
   ],
   "source": [
    "y_class_w2v = Model_w2v.predict(test_vecs_w2v)\n",
    "print(classification_report(y_class_w2v, y_test))"
   ]
  },
  {
   "cell_type": "markdown",
   "metadata": {},
   "source": [
    "An F1-score of 0.74, that's more than ok!"
   ]
  },
  {
   "cell_type": "markdown",
   "metadata": {},
   "source": [
    "* SPPMI - SVD confusion matrix:"
   ]
  },
  {
   "cell_type": "code",
   "execution_count": 72,
   "metadata": {
    "scrolled": true
   },
   "outputs": [
    {
     "name": "stdout",
     "output_type": "stream",
     "text": [
      "              precision    recall  f1-score   support\n",
      "\n",
      "           0       0.73      0.70      0.71    116868\n",
      "           1       0.67      0.70      0.68    100932\n",
      "\n",
      "    accuracy                           0.70    217800\n",
      "   macro avg       0.70      0.70      0.70    217800\n",
      "weighted avg       0.70      0.70      0.70    217800\n",
      "\n"
     ]
    }
   ],
   "source": [
    "y_class_svd = Model_svd.predict(test_vecs_svd)\n",
    "print(classification_report(y_class_svd, y_test))"
   ]
  },
  {
   "cell_type": "markdown",
   "metadata": {},
   "source": [
    "If the precision, recall, f1-score are overall decent, they are lower than for Word2Vec, but only by a little bit."
   ]
  },
  {
   "cell_type": "markdown",
   "metadata": {},
   "source": [
    "# Conclusion"
   ]
  },
  {
   "cell_type": "markdown",
   "metadata": {},
   "source": [
    "A brief recap of what we've done:\n",
    "1. We used a 1.6 million tweets dataset to create both a Word2Vec and a SPPMI - SVD model\n",
    "2. Using these models, we transformed the tweets into vectors\n",
    "3. With these vectors in hand, we fed them to linear classifiers to predict the sentiment of each tweet\n",
    "4. We compared the classification results obtained by Word2Vec and SPPMI - SVD word embeddings\n",
    "\n",
    "We used both Word2Vec and SPPMI - SVD in their default mode, the tweets received only a light preprocessing, and we stuck to linear classifiers without any tuning. Still, in both cases, we got decent classification performance. Even better, SPPMI - SVD was very close to Word2Vec in term of Sentiment classification results.\n",
    "\n",
    "**In the end, for this Sentiment Analysis task, SPPMI - SVD provides a decent alternative to Word2Vec**."
   ]
  },
  {
   "cell_type": "markdown",
   "metadata": {},
   "source": [
    "# Acknowledgement\n",
    "\n",
    "* My implementation of SPPMI - SVD is very simple, if it were to be optimized (Numpy vectorization, multiprocessing or Cython code), it should produce word embeddings much faster than Word2Vec."
   ]
  },
  {
   "cell_type": "markdown",
   "metadata": {},
   "source": [
    "# References\n",
    "* [1]. Mikolov et al. [*Efficient Estimation of Word Representations in Vector Space*](https://arxiv.org/pdf/1301.3781.pdf) \n",
    "* [2]. Mikolov et al. [*Distributed Representations of Words and Phrases and their Compositionality*](https://papers.nips.cc/paper/5021-distributed-representations-of-words-and-phrases-and-their-compositionality.pdf)\n",
    "* [3].  Omer Levy and Yoav Goldberg [*Neural Word Embedding as Implicit Matrix Factorization*](https://papers.nips.cc/paper/5477-neural-word-embedding-as-implicit-matrix-factorization.pdf)\n",
    "* [4]. Ahmed Besbes [*Sentiment Analysis on twitter using word2vec and keras*](https://ahmedbesbes.com/sentiment-analysis-on-twitter-using-word2vec-and-keras.html)\n",
    "* [5]. Sebastian Ruder [*On word embeddings - Part 3: The secret ingredients of word2vec*](http://ruder.io/secret-word2vec/)\n",
    "* [6]. Chris Moody [*Stop Using Word2Vec*](https://multithreaded.stitchfix.com/blog/2017/10/18/stop-using-word2vec/)\n"
   ]
  },
  {
   "cell_type": "markdown",
   "metadata": {},
   "source": [
    "# End"
   ]
  }
 ],
 "metadata": {
  "kernelspec": {
   "display_name": "Python 3",
   "language": "python",
   "name": "python3"
  },
  "language_info": {
   "codemirror_mode": {
    "name": "ipython",
    "version": 3
   },
   "file_extension": ".py",
   "mimetype": "text/x-python",
   "name": "python",
   "nbconvert_exporter": "python",
   "pygments_lexer": "ipython3",
   "version": "3.7.3"
  }
 },
 "nbformat": 4,
 "nbformat_minor": 2
}
